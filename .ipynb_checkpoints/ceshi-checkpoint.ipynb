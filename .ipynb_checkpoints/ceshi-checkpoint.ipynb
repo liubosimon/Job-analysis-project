{
 "cells": [
  {
   "cell_type": "code",
   "execution_count": 25,
   "metadata": {},
   "outputs": [
    {
     "name": "stdout",
     "output_type": "stream",
     "text": [
      "Requirement already satisfied: PyQuery in /Users/wangrui/anaconda/lib/python3.6/site-packages\n",
      "Requirement already satisfied: cssselect>0.7.9 in /Users/wangrui/anaconda/lib/python3.6/site-packages (from PyQuery)\n",
      "Requirement already satisfied: lxml>=2.1 in /Users/wangrui/anaconda/lib/python3.6/site-packages (from PyQuery)\n"
     ]
    }
   ],
   "source": [
    "import pip\n",
    "\n",
    "def install(package):\n",
    "   pip.main(['install', package])\n",
    "\n",
    "install('PyQuery')#模块名称"
   ]
  },
  {
   "cell_type": "code",
   "execution_count": 1,
   "metadata": {
    "scrolled": true
   },
   "outputs": [
    {
     "name": "stdout",
     "output_type": "stream",
     "text": [
      "岗位职责： 1、 完成集团稽核中心分配的稽核项目工作，如对保险公司下设分、支机构的常规稽核、任中、离任稽核项目等。 2、 根据公司内部制度及法律、外部监管制度，监督检查是否有效执行公司内部制度、法律法规、及外部监管制度的情况。 3、 对保险业务数据进行数据分析，利用数据挖掘算法分析存在的异常点或检查的重点； 4 、 进行稽核成果汇总分析，提出管理建议； 5 、 完成领导交办的其他工作事宜。 任职资格： 1、 学历：大学本科及以上学历。 2、 保险、审计、财会、法律、计算机信息技术等专业本科及以上学历，英语良好者优先； 3、 3年及以上保险公司审计、财务工作经验优先； 4、 有较强的判断分析能力、文字表达能力、协调沟通能力； 5、 熟练运用office等办公软件，能够熟练运用WORD、EXCEL和制作PPT，具有良好的数理分析、电脑操作能力； 6、 具有注册会计师、注册内部审计师资格或保险、会计、审计中级及以上职称者优先录用。 所属部门： 稽核中心 专业要求： 不限 汇报对象： 无 下属人数： 0人 太平金融稽核服务（深圳）有限公司（以下简称“稽核中心”）成立于2008年11月，是中国太平保险集团有限责任公司（以下简称“中国太平”）旗下的专业内控稽核公司，专营保险公司内审及管理咨询业务。公司总部位于深圳，并分别在深圳、北京、上海、成都设有南部、北部、东部、西部四个区域中心。 经过多年的锤炼锻造，稽核中心在保险企业内审业务多个技术领域实现了国内首创，持续保持业内领先。 2013年9月，稽核中心获得英标管理体系认证（北京）有限公司颁发的《ISO9001:2008国际质量管理体系认证》证书，成为国内内部审计领域首家通过ISO质量体系认证的机构。2014年，稽核中心获得中国内部审计协会内部审计质量外部评估最高等级“AAA”评级。 立即应聘\n"
     ]
    }
   ],
   "source": [
    "from pyquery import PyQuery as pq\n",
    "#获取职位描述的内容\n",
    "url = 'https://www.liepin.com/job/196740119.shtml?imscid=R000000075&ckid=c4ec30776c9ce4b3&headckid=c4ec30776c9ce4b3&pageNo=0&pageIdx0&totalIdx=0&sup=1?d_pageSize=40&siTag=ZFDYQyfloRvvhTxLnVV_Qg~fA9rXquZc5IkJpXC-Ycixw&d_headId=07b7f0a71d9ec54daf4eb1ba72dfb3a5&d_ckId=07b7f0a71d9ec54daf4eb1ba72dfb3a5&d_sfrom=search_unknown&d_curPage=0&d_posi=0'\n",
    "html = pq(url)\n",
    "#print(html)\n",
    "selector = '.about-position .job-item .content'\n",
    "text = html(selector).text()\n",
    "print(text)"
   ]
  },
  {
   "cell_type": "code",
   "execution_count": 27,
   "metadata": {},
   "outputs": [
    {
     "name": "stdout",
     "output_type": "stream",
     "text": [
      "98\n"
     ]
    }
   ],
   "source": [
    "#获取检索页页码\n",
    "url = 'https://www.liepin.com/zhaopin/?&pubTime=&d_=&ckid=c4ec30776c9ce4b3&fromSearchBtn=2&compkind=&isAnalysis=\\\n",
    "&&init=-1&searchType=1&dqs=&industryType=&jobKind=&&&sortFlag=15&degradeFlag=0&industries=&salary=&\\\n",
    "compscale=&&key=%E6%95%B0%E6%8D%AE%E5%88%86%E6%9E%90&clean_condition=&headckid=c4ec30776c9ce4b3&d_pageSize=40&\\\n",
    "siTag=ZFDYQyfloRvvhTxLnVV_Qg~fA9rXquZc5IkJpXC-Ycixw&d_headId=07b7f0a71d9ec54daf4eb1ba72dfb3a5&\\\n",
    "d_ckId=07b7f0a71d9ec54daf4eb1ba72dfb3a5&d_sfrom=search_unknown&d_&curPage=97'\n",
    "html = pq(url)\n",
    "#print(html)\n",
    "selector = '.sojob-result .pagerbar .current'\n",
    "currentPage = html(selector).text()\n",
    "print(currentPage)"
   ]
  },
  {
   "cell_type": "code",
   "execution_count": 35,
   "metadata": {
    "scrolled": true
   },
   "outputs": [
    {
     "name": "stdout",
     "output_type": "stream",
     "text": [
      "['弹性工作', '股票期权', '绩效奖金', '带薪年假', '交通补助', '通讯津贴', '领导好', '节日礼物', '五险一金', '岗位晋升', '全勤奖', '外派津贴', '发展空间大', '年底双薪']\n"
     ]
    }
   ],
   "source": [
    "from pyquery import PyQuery as pq\n",
    "#获取职位标签\n",
    "url = 'https://www.liepin.com/job/1910315297.shtml?imscid=R000000075&ckid=c4ec30776c9ce4b3&headckid=c4ec30776c9ce\\\n",
    "4b3&pageNo=103&pageIdx0&totalIdx=4120&sup=1?d_pageSize=40&siTag=ZFDYQyfloRvvhTxLnVV_Qg~fA9rXquZc5IkJpXC-Ycixw&\\\n",
    "d_headId=07b7f0a71d9ec54daf4eb1ba72dfb3a5&d_ckId=07b7f0a71d9ec54daf4eb1ba72dfb3a5&d_sfrom=search_unknown&\\\n",
    "d_curPage=103&d_posi=4120'\n",
    "html = pq(url)\n",
    "#print(html)\n",
    "selector = 'div.tag-list span'\n",
    "lis = html(selector).items()\n",
    "tag_list = []\n",
    "for li in lis:\n",
    "    tag_list.append(li.text())\n",
    "print(tag_list)"
   ]
  },
  {
   "cell_type": "code",
   "execution_count": 43,
   "metadata": {},
   "outputs": [
    {
     "name": "stdout",
     "output_type": "stream",
     "text": [
      "6-10万\n"
     ]
    }
   ],
   "source": [
    "from pyquery import PyQuery as pq\n",
    "#获取职位描述的内容\n",
    "url = 'https://www.liepin.com/job/1910442709.shtml?imscid=R000000075&ckid=bc49578c1576b357&headckid=\\\n",
    "bc49578c1576b357&pageNo=0&pageIdx15&totalIdx=15&sup=1?d_pageSize=40&siTag=ZFDYQyfloRvvhTxLnVV_Qg~fA9rXquZc5IkJpXC\\\n",
    "-Ycixw&d_headId=47323f00ef4649f5eea9f6692a03890c&d_ckId=47323f00ef4649f5eea9f6692a03890c&d_sfrom=search_unknown&\\\n",
    "d_curPage=0&d_posi=15'\n",
    "html = pq(url)\n",
    "#print(html)\n",
    "selector = '.about-position .job-item .job-item-title'#.job-item-title\n",
    "#selector2 = '.about-position .job-item .job-item-title span'\n",
    "lis = html(selector).text().split()[0]#-html(selector2).text()\n",
    "print(lis)"
   ]
  },
  {
   "cell_type": "code",
   "execution_count": 56,
   "metadata": {},
   "outputs": [
    {
     "data": {
      "text/plain": [
       "'北京'"
      ]
     },
     "execution_count": 56,
     "metadata": {},
     "output_type": "execute_result"
    }
   ],
   "source": [
    "s = '北京-df'\n",
    "s.split('-')[0]"
   ]
  },
  {
   "cell_type": "code",
   "execution_count": 68,
   "metadata": {},
   "outputs": [
    {
     "name": "stdout",
     "output_type": "stream",
     "text": [
      "面议\n",
      "面议\n"
     ]
    }
   ],
   "source": [
    "from pyquery import PyQuery as pq\n",
    "import requests\n",
    "#获取职位描述的内容\n",
    "url = 'https://www.liepin.com/job/199318508.shtml?imscid=R000000075&ckid=bc49578c1576b357&headckid=bc49578c1576b357&pageNo=0&pageIdx0&totalIdx=0&sup=1?d_pageSize=40&siTag=ZFDYQyfloRvvhTxLnVV_Qg~fA9rXquZc5IkJpXC-Ycixw&d_headId=47323f00ef4649f5eea9f6692a03890c&d_ckId=47323f00ef4649f5eea9f6692a03890c&d_sfrom=search_unknown&d_curPage=0&d_posi=0'\n",
    "doc = pq(url)\n",
    "\n",
    "if doc('.about-position .job-item .job-item-title').text().split()[0] == '面议':\n",
    "    min_salary = max_salary = '面议'\n",
    "    \n",
    "else:\n",
    "    min_salary = doc('.about-position .job-item .job-item-title').text().split()[0].split('-')[0]\n",
    "    max_salary = doc('.about-position .job-item .job-item-title').text().split()[0].split('-')[1][:-1]\n",
    "\n",
    "print(min_salary)\n",
    "print(max_salary)"
   ]
  },
  {
   "cell_type": "code",
   "execution_count": 74,
   "metadata": {},
   "outputs": [
    {
     "name": "stdout",
     "output_type": "stream",
     "text": [
      "深圳\n",
      "罗湖区\n"
     ]
    }
   ],
   "source": [
    "from pyquery import PyQuery as pq\n",
    "#地点\n",
    "url = 'https://www.liepin.com/job/1910466315.shtml?imscid=R000000075&ckid=bc49578c1576b357&headckid=bc49578c1576b357&pageNo=0&pageIdx4&totalIdx=4&sup=1?d_pageSize=40&siTag=ZFDYQyfloRvvhTxLnVV_Qg~fA9rXquZc5IkJpXC-Ycixw&d_headId=47323f00ef4649f5eea9f6692a03890c&d_ckId=47323f00ef4649f5eea9f6692a03890c&d_sfrom=search_unknown&d_curPage=0&d_posi=4'\n",
    "doc = pq(url)\n",
    "position = doc('.about-position .job-item .basic-infor span a').text()\n",
    "if position.find('-') >= 0:\n",
    "    position_city = position.split('-')[0]\n",
    "    position_in_city = position.split('-')[1]\n",
    "else:\n",
    "    position_city = position\n",
    "    position_in_city = None\n",
    "print(position_city)\n",
    "print(position_in_city)"
   ]
  },
  {
   "cell_type": "code",
   "execution_count": 81,
   "metadata": {
    "scrolled": true
   },
   "outputs": [
    {
     "name": "stdout",
     "output_type": "stream",
     "text": [
      "2017年10月14日\n"
     ]
    }
   ],
   "source": [
    "from pyquery import PyQuery as pq\n",
    "#发布日期\n",
    "url = 'https://www.liepin.com/job/1910466315.shtml?imscid=R000000075&ckid=bc49578c1576b357&headckid=bc49578c1576b357&pageNo=0&pageIdx4&totalIdx=4&sup=1?d_pageSize=40&siTag=ZFDYQyfloRvvhTxLnVV_Qg~fA9rXquZc5IkJpXC-Ycixw&d_headId=47323f00ef4649f5eea9f6692a03890c&d_ckId=47323f00ef4649f5eea9f6692a03890c&d_sfrom=search_unknown&d_curPage=0&d_posi=4'\n",
    "doc = pq(url)\n",
    "\n",
    "time = doc('.about-position .job-item .basic-infor time').attr('title')\n",
    "\n",
    "print(time)\n"
   ]
  },
  {
   "cell_type": "code",
   "execution_count": 85,
   "metadata": {},
   "outputs": [
    {
     "name": "stdout",
     "output_type": "stream",
     "text": [
      "中专/中技及以上\n",
      "2年以上经验\n",
      "语言不限\n",
      "年龄不限\n"
     ]
    }
   ],
   "source": [
    "from pyquery import PyQuery as pq\n",
    "#学历、工作经验、语言、年龄\n",
    "url = 'https://www.liepin.com/job/1910466315.shtml?imscid=R000000075&ckid=bc49578c1576b357&headckid=bc49578c1576b357&pageNo=0&pageIdx4&totalIdx=4&sup=1?d_pageSize=40&siTag=ZFDYQyfloRvvhTxLnVV_Qg~fA9rXquZc5IkJpXC-Ycixw&d_headId=47323f00ef4649f5eea9f6692a03890c&d_ckId=47323f00ef4649f5eea9f6692a03890c&d_sfrom=search_unknown&d_curPage=0&d_posi=4'\n",
    "doc = pq(url)\n",
    "\n",
    "education = doc('.about-position .job-item .job-qualifications span').text().split()[0]\n",
    "work_experience = doc('.about-position .job-item .job-qualifications span').text().split()[1]\n",
    "language = doc('.about-position .job-item .job-qualifications span').text().split()[2]\n",
    "age = doc('.about-position .job-item .job-qualifications span').text().split()[3]\n",
    "\n",
    "print(education)\n",
    "print(work_experience)\n",
    "print(language)\n",
    "print(age)\n",
    "\n"
   ]
  },
  {
   "cell_type": "code",
   "execution_count": null,
   "metadata": {
    "collapsed": true
   },
   "outputs": [],
   "source": []
  }
 ],
 "metadata": {
  "kernelspec": {
   "display_name": "Python 3",
   "language": "python",
   "name": "python3"
  },
  "language_info": {
   "codemirror_mode": {
    "name": "ipython",
    "version": 3
   },
   "file_extension": ".py",
   "mimetype": "text/x-python",
   "name": "python",
   "nbconvert_exporter": "python",
   "pygments_lexer": "ipython3",
   "version": "3.6.1"
  }
 },
 "nbformat": 4,
 "nbformat_minor": 2
}
